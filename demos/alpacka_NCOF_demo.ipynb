{
 "cells": [
  {
   "cell_type": "markdown",
   "metadata": {},
   "source": [
    "# Example of application of the sdlabb package for metadata extaction\n",
    "# NCOF method\n",
    "Created 13-11-20\n",
    "\n",
    "Author: Fredrik Möller \n",
    "\n"
   ]
  },
  {
   "cell_type": "markdown",
   "metadata": {},
   "source": [
    "# Step 1: Load and preprocess data.\n",
    "\n",
    "### Currently the the sdlabb package can only handle inputs of type `list`. As the data is loaded from a `csv`-file it needs to be transformed into the correct format.\n",
    "\n",
    "Data is loaded from the folder and file specified in the 'congi.ini' file. See README for further clarification "
   ]
  },
  {
   "cell_type": "code",
   "execution_count": 2,
   "metadata": {},
   "outputs": [
    {
     "name": "stdout",
     "output_type": "stream",
     "text": [
      "Loading data from ~\\Documents\\Recorded Future\\Project-emp\\Data\\violence_data_nov10.csv\n",
      "Dropping any NAN objects from the data\n",
      "Removing any non str objects from the data\n"
     ]
    }
   ],
   "source": [
    "from alpacka.pipes import data_process\n",
    "\n",
    "data_p = data_process.data_process('config.ini')\n",
    "\n",
    "data , labels = data_p.load_file('text', 'label')"
   ]
  },
  {
   "cell_type": "markdown",
   "metadata": {},
   "source": [
    "### Quick investigation of the current status of the data."
   ]
  },
  {
   "cell_type": "code",
   "execution_count": 3,
   "metadata": {},
   "outputs": [
    {
     "name": "stdout",
     "output_type": "stream",
     "text": [
      "Number of samples in Data 40656\n",
      "Distrubution of the classes\n",
      "Positive class: 4.46 % 1812 samples\n",
      "Negative class: 95.54. 38844 samples\n"
     ]
    }
   ],
   "source": [
    "nr_pos = sum(labels)\n",
    "prec_pos = (nr_pos/len(labels))*100\n",
    "prec_neg = 100 - prec_pos \n",
    "print(f\"Number of samples in Data {len(data)}\")\n",
    "print(f\"Distrubution of the classes\")\n",
    "print(f\"Positive class: {round(prec_pos,2)} % {nr_pos} samples\")\n",
    "print(f\"Negative class: {round(prec_neg,2)}. {len(data)-nr_pos} samples\")"
   ]
  },
  {
   "cell_type": "markdown",
   "metadata": {},
   "source": [
    "# Application of the NCOF method to the data:\n"
   ]
  },
  {
   "cell_type": "markdown",
   "metadata": {},
   "source": [
    "#### Start with importing and creating an instance of the `NCOF` class \n",
    "\n",
    "The setup for the ncof-class is loaded based on settings specified in the 'congi.ini' file. See README for further clarification "
   ]
  },
  {
   "cell_type": "code",
   "execution_count": 4,
   "metadata": {},
   "outputs": [
    {
     "name": "stdout",
     "output_type": "stream",
     "text": [
      "Creating NCOF class object\n",
      "Calculating NCOF score for the unprocessed data set\n",
      "done\n"
     ]
    }
   ],
   "source": [
    "from alpacka.pipes import ncof_pipeline\n",
    "\n",
    "\n",
    "\n",
    "print(f\"Creating NCOF class object\")\n",
    "NCOF = ncof_pipeline.ncof_pipeline('config.ini')\n",
    "NCOF.set_verbose(False)\n",
    "NCOF.num_words = False\n",
    "\n",
    "print(f\"Calculating NCOF score for the unprocessed data set\")\n",
    "NCOF.calc_ncof(data, labels)\n",
    "print(f\"done\")\n",
    "\n"
   ]
  },
  {
   "cell_type": "markdown",
   "metadata": {},
   "source": [
    "#### Currently there are no set length restrictions of the number of words that are represented. This makes it so that all unique word in the data set will be represented and get a NCOF score. \n",
    "\n",
    "#### After the `calc_NCOF` method have been called the dictionary for the data set and the vector containing the NCOF score can be access by calling the `get_dict` & `get_score` methods respectively\n",
    "\n",
    "\n",
    "#### The more common a word is in the data set the lower its index is. Such that the most common word has index 0, the second most common has index 1, etc."
   ]
  },
  {
   "cell_type": "code",
   "execution_count": 5,
   "metadata": {},
   "outputs": [
    {
     "name": "stdout",
     "output_type": "stream",
     "text": [
      "Accessing the 5 first elements in the dictionary for the dataset\n",
      "['att', 'och', 'det', 'som', 'är', 'i']\n",
      "Accessing the corresponding NCOF score for these words\n",
      "[-0.00442982  0.00313823 -0.00087284 -0.00268846 -0.00121464 -0.00221725]\n"
     ]
    }
   ],
   "source": [
    "print(f\"Accessing the 5 first elements in the dictionary for the dataset\")\n",
    "d = NCOF.get_dict()\n",
    "print([d.get(i) for i in range(6)])\n",
    "\n",
    "print(f\"Accessing the corresponding NCOF score for these words\")\n",
    "s = NCOF.get_score()\n",
    "print(s[range(6)])\n"
   ]
  },
  {
   "cell_type": "markdown",
   "metadata": {},
   "source": [
    "#### Next step is to extract the words with the NCOF-scores that lie $\\mu \\pm 1-3 \\sigma$, (mean plus minus 1 to 3 standard deviations).\n",
    "\n",
    "These outliers are sorted such that the words that lie inside each sigma bracked are grouped with eachother. \n",
    "\n",
    "#### The index outliers can be accessed from the NCOF object by calling the `get_pos_outliers` & `get_neg_outliers` respectively. The inliers can be accessed through `get_inliers`"
   ]
  },
  {
   "cell_type": "code",
   "execution_count": 6,
   "metadata": {},
   "outputs": [
    {
     "name": "stdout",
     "output_type": "stream",
     "text": [
      "Outliers in the 1-2 sigma bracket:\n",
      "Positive class: 88 words\n",
      "Negative class: 70 words\n",
      "\n",
      "Outliers in the 2-3 sigma bracket:\n",
      "Positive class: 20 words\n",
      "Negative class: 26 words\n",
      "\n",
      "Outliers in the +3 sigma bracket:\n",
      "Positive class: 63 words\n",
      "Negative class: 38 words\n"
     ]
    }
   ],
   "source": [
    "NCOF.split_score()\n",
    "\n",
    "print(f\"Outliers in the 1-2 sigma bracket:\")\n",
    "print(f\"Positive class: {len(NCOF.get_pos_outliers()[0])} words\")\n",
    "print(f\"Negative class: {len(NCOF.get_neg_outliers()[0])} words\")\n",
    "print(f\"\")\n",
    "print(f\"Outliers in the 2-3 sigma bracket:\")\n",
    "print(f\"Positive class: {len(NCOF.get_pos_outliers()[1])} words\")\n",
    "print(f\"Negative class: {len(NCOF.get_neg_outliers()[1])} words\")\n",
    "print(f\"\")\n",
    "print(f\"Outliers in the +3 sigma bracket:\")\n",
    "print(f\"Positive class: {len(NCOF.get_pos_outliers()[2])} words\")\n",
    "print(f\"Negative class: {len(NCOF.get_neg_outliers()[2])} words\")"
   ]
  },
  {
   "cell_type": "markdown",
   "metadata": {},
   "source": [
    "#### The score can also be plotted to get a visual indication regarding the NCOF score over the data set"
   ]
  },
  {
   "cell_type": "code",
   "execution_count": 7,
   "metadata": {},
   "outputs": [
    {
     "data": {
      "image/png": "[encoded data removed]",
      "text/plain": [
       "<Figure size 576x396 with 1 Axes>"
      ]
     },
     "metadata": {},
     "output_type": "display_data"
    },
    {
     "data": {
      "image/png": "[encoded data removed]",
      "text/plain": [
       "<Figure size 576x396 with 1 Axes>"
      ]
     },
     "metadata": {},
     "output_type": "display_data"
    }
   ],
   "source": [
    "NCOF.scatter()"
   ]
  },
  {
   "cell_type": "markdown",
   "metadata": {},
   "source": [
    "#### It can be noted that it appears that generally the more common a word is to the data set the more common it is to be skewed towards either class. "
   ]
  },
  {
   "cell_type": "markdown",
   "metadata": {},
   "source": [
    "#### The identified outliers can then be extracted as word so that a manual inspection regarding the conted can be performed. The outliers words are accessed by transformining them from integer indexes back to text by calling the `ind_2_txt` method. All outliers from each class can be transformed in one go"
   ]
  },
  {
   "cell_type": "code",
   "execution_count": 8,
   "metadata": {},
   "outputs": [
    {
     "name": "stdout",
     "output_type": "stream",
     "text": [
      "Presenting the 15 first examples for each sigma bracket for the two classes:\n",
      "\n",
      "\n",
      "Positive class:\n",
      "1-2 Sigma bracket: ['eller', 'ha', 'upp', 'mycket', 'kanske', 'deras', 'tycker', 'över', 'sen', 'lite', 'säger', 'eftersom', 'sätt', 'innan', 'ja']\n",
      "\n",
      "2-3 Sigma bracket: ['men', 'sig', 'blir', 'sina', 'gör', 'din', 'ner', 'o', 'oss', 'mina', 'djur', 'världen', 'skjutas', 'vårt', 'hota']\n",
      "\n",
      "+3 Sigma bracket: ['och', 'jag', 'de', 'så', 'döda', 'man', 'kan', 'ett', 'skulle', 'någon', 'ska', 'då', 'dom', 'vi', 'alla']\n",
      "\n",
      "\n",
      "Negative class:\n",
      "1-2 Sigma bracket: ['när', 'ju', 'vill', 'där', 'ut', 'vad', 'människor', 'även', 'sverige', 'ingen', 'samma', 'går', 'två', 'vilket', 'flera']\n",
      "\n",
      "2-3 Sigma bracket: ['vara', 'andra', 'många', 'något', 'dödade', 'detta', 'år', 'under', 'blev', 'allt', 'hans', 'vid', 'hängde', 'blivit', 'alltså']\n",
      "\n",
      "+3 Sigma bracket: ['att', 'det', 'som', 'är', 'i', 'en', 'inte', 'på', 'för', 'med', 'om', 'du', 'har', 'av', 'han']\n"
     ]
    }
   ],
   "source": [
    "pos_words = NCOF.ind_2_txt(NCOF.get_pos_outliers())\n",
    "       \n",
    "\n",
    "neg_words = NCOF.ind_2_txt(NCOF.get_neg_outliers())\n",
    "\n",
    "\n",
    "nr = 15\n",
    "print(f\"Presenting the 15 first examples for each sigma bracket for the two classes:\")\n",
    "print(f\"\")\n",
    "print(f\"\")\n",
    "\n",
    "print(f\"Positive class:\")\n",
    "print(f\"1-2 Sigma bracket: {pos_words[0][:nr]}\")\n",
    "print(f\"\")\n",
    "print(f\"2-3 Sigma bracket: {pos_words[1][:nr]}\")\n",
    "print(f\"\")\n",
    "print(f\"+3 Sigma bracket: {pos_words[2][:nr]}\")\n",
    "print(f\"\")\n",
    "\n",
    "print(f\"\")\n",
    "print(f\"Negative class:\")\n",
    "print(f\"1-2 Sigma bracket: {neg_words[0][:nr]}\")\n",
    "print(f\"\")\n",
    "print(f\"2-3 Sigma bracket: {neg_words[1][:nr]}\")\n",
    "print(f\"\")\n",
    "print(f\"+3 Sigma bracket: {neg_words[2][:nr]}\")\n",
    "\n"
   ]
  },
  {
   "cell_type": "markdown",
   "metadata": {},
   "source": [
    "#### It should be noted that stop words have not been removed from the outliers. "
   ]
  },
  {
   "cell_type": "markdown",
   "metadata": {},
   "source": [
    "#### The stop words currently used were pulled from the web, from some site claiming to present the 929 most commonly used in the swedish language. \n",
    "#### the stop words can be access by calling the `get_stop_words` method, this function has two inputs, the path to the stop words file and the number of stop words to be used, max is 929 words. \n"
   ]
  },
  {
   "cell_type": "code",
   "execution_count": 9,
   "metadata": {},
   "outputs": [
    {
     "name": "stdout",
     "output_type": "stream",
     "text": [
      "Loading 200 stop words from Stopord.txt\n",
      "The 10 most commonly used words are ['i', 'och', 'att', 'det', 'som', 'en', 'på', 'är', 'av', 'för']\n"
     ]
    }
   ],
   "source": [
    "stop_words = data_p.load_stop_words(nr_words = 200)\n",
    "nr = 10\n",
    "print(f\"The {nr} most commonly used words are {stop_words[:nr]}\")"
   ]
  },
  {
   "cell_type": "markdown",
   "metadata": {},
   "source": [
    "#### The stop words can then be removed from the identifed outliers by using the `remove_stop_words` method. This method takes the input format of `words_pos` and `words_neg`"
   ]
  },
  {
   "cell_type": "code",
   "execution_count": 10,
   "metadata": {},
   "outputs": [
    {
     "name": "stdout",
     "output_type": "stream",
     "text": [
      "Words present in the sigma brackets after stop word removal\n",
      "\n",
      "Outliers in the 1-2 sigma bracket:\n",
      "Positive class: 67 words, down from 88 words\n",
      "Negative class: 41 words, down from 70 words\n",
      "\n",
      "Outliers in the 2-3 sigma bracket:\n",
      "Positive class: 14 words, down from 20 words\n",
      "Negative class: 13 words, down from 26 words\n",
      "\n",
      "Outliers in the +3 sigma bracket:\n",
      "Positive class: 31 words, down from 63 words\n",
      "Negative class: 12 words, down from 38 words\n"
     ]
    }
   ],
   "source": [
    "words_pos_no_stop_words = NCOF.remove_stop_words(pos_words , stop_words)\n",
    "\n",
    "words_neg_no_stop_words = NCOF.remove_stop_words(neg_words , stop_words)\n",
    "\n",
    "print(f\"Words present in the sigma brackets after stop word removal\")\n",
    "print(f\"\")\n",
    "print(f\"Outliers in the 1-2 sigma bracket:\")\n",
    "print(f\"Positive class: {len(words_pos_no_stop_words[0])} words, down from {len(NCOF.get_pos_outliers()[0])} words\")\n",
    "print(f\"Negative class: {len(words_neg_no_stop_words[0])} words, down from {len(NCOF.get_neg_outliers()[0])} words\")\n",
    "print(f\"\")\n",
    "print(f\"Outliers in the 2-3 sigma bracket:\")\n",
    "print(f\"Positive class: {len(words_pos_no_stop_words[1])} words, down from {len(NCOF.get_pos_outliers()[1])} words\")\n",
    "print(f\"Negative class: {len(words_neg_no_stop_words[1])} words, down from {len(NCOF.get_neg_outliers()[1])} words\")\n",
    "print(f\"\")\n",
    "print(f\"Outliers in the +3 sigma bracket:\")\n",
    "print(f\"Positive class: {len(words_pos_no_stop_words[2])} words, down from {len(NCOF.get_pos_outliers()[2])} words\")\n",
    "print(f\"Negative class: {len(words_neg_no_stop_words[2])} words, down from {len(NCOF.get_neg_outliers()[2])} words\")"
   ]
  },
  {
   "cell_type": "markdown",
   "metadata": {},
   "source": [
    "#### It can be noted that the number of outlier are reduced when stop words are removed, indicating that some stop words are overrepresented in the classes. It should also be noted that the large number of outliers are detected are due to the number of available integer representations is not limited. Such that each unique token in the corpus will recive an int representation can thus get a NCOF score. \n",
    "\n",
    "\n",
    "#### The 3 sigma outliers from the positive and negative class are: "
   ]
  },
  {
   "cell_type": "code",
   "execution_count": 11,
   "metadata": {},
   "outputs": [
    {
     "name": "stdout",
     "output_type": "stream",
     "text": [
      "Words from the positive class:\n",
      "['döda', 'dom', 'dig', 'skjuta', 'mörda', 'våldta', 'ni', 'stryk', 'borde', 'livet', 'ihjäl', 'jävla', 'er', 'istället', 'bomba', 'utplåna', 'fan', 'avrätta', 'ge', 'visst', 'varandra', 'hoppas', 'avrättas', 'bör', 'gärna', 'krig', 'åka', 'hängas', 'avliva', 'låt', 'förtjänar']\n"
     ]
    }
   ],
   "source": [
    "print(f\"Words from the positive class:\")\n",
    "print(f\"{words_pos_no_stop_words[2]}\")"
   ]
  },
  {
   "cell_type": "code",
   "execution_count": 12,
   "metadata": {},
   "outputs": [
    {
     "name": "stdout",
     "output_type": "stream",
     "text": [
      "Words from the negative class:\n",
      "['hänga', 'hora', 'https', 't', 'mördade', 'horor', 'kvinnor', 'fitta', 'co', 'sköt', 'misshandlade', 'tysta']\n"
     ]
    }
   ],
   "source": [
    "print(f\"Words from the negative class:\")\n",
    "print(f\"{words_neg_no_stop_words[2]}\")"
   ]
  },
  {
   "cell_type": "markdown",
   "metadata": {},
   "source": [
    "#### The 2 sigma outliers from the positive and negative class are: "
   ]
  },
  {
   "cell_type": "code",
   "execution_count": 13,
   "metadata": {},
   "outputs": [
    {
     "name": "stdout",
     "output_type": "stream",
     "text": [
      "Words from the positive class:\n",
      "['din', 'ner', 'o', 'mina', 'djur', 'världen', 'skjutas', 'vårt', 'hota', 'skiten', 'tortera', 'avlivas', 'svin', 'kok']\n"
     ]
    }
   ],
   "source": [
    "print(f\"Words from the positive class:\")\n",
    "print(f\"{words_pos_no_stop_words[1]}\")"
   ]
  },
  {
   "cell_type": "code",
   "execution_count": 14,
   "metadata": {},
   "outputs": [
    {
     "name": "stdout",
     "output_type": "stream",
     "text": [
      "Words from the negative class:\n",
      "['dödade', 'hängde', 'alltså', 'menar', 'ens', 'våldtog', 'http', 'com', 'personer', 'antalet', 'www', 'antal', 'svårt']\n"
     ]
    }
   ],
   "source": [
    "print(f\"Words from the negative class:\")\n",
    "print(f\"{words_neg_no_stop_words[1]}\")"
   ]
  },
  {
   "cell_type": "markdown",
   "metadata": {},
   "source": [
    "#### The 1 sigma outliers from the positive and negative class are: "
   ]
  },
  {
   "cell_type": "code",
   "execution_count": 15,
   "metadata": {},
   "outputs": [
    {
     "name": "stdout",
     "output_type": "stream",
     "text": [
      "Words from the positive class:\n",
      "['sen', 'innan', 'ja', 'misshandla', 'mitt', 'själva', 'polisen', 'igen', 'direkt', 'ok', 'känner', 'vapen', 'våld', 'vore', 'personen', 'tex', 'ifrån', 'skada', 'gäng', 'politiker', 'bästa', 'händer', 'huvudet', 'vart', 'islam', 'önskar', 'sätta', 'gott', 'nästa', 'stort', 'sönder', 'kriminella', 'lyckas', 'dödar', 'förintas', 'befolkning', 'samhälle', 'förr', 'sättet', 'fritt', 'hus', 'skjuter', 'dräpa', 'såna', 'ställa', 'jorden', 'skogen', 'djuren', 'sist', 'rejält', 'kuken', 'skära', 'äckliga', 'katten', 'agera', 'tjänst', 'skallen', 'elimineras', 'fantiserar', 'systrar', 'ungen', 'socialister', 'förpestar', 'slakta', 'parasiter', 'åtgärd', 'aset']\n"
     ]
    }
   ],
   "source": [
    "print(f\"Words from the positive class:\")\n",
    "print(f\"{words_pos_no_stop_words[0]}\")"
   ]
  },
  {
   "cell_type": "code",
   "execution_count": 16,
   "metadata": {},
   "outputs": [
    {
     "name": "stdout",
     "output_type": "stream",
     "text": [
      "Words from the negative class:\n",
      "['hängt', 'säga', 'fler', 'pengar', 'verkar', 'tog', 'ex', 'osv', 'fast', 'väldigt', 'usa', '2', 'twitter', '\\xa0', 'runt', 'länge', 'hem', 'behöver', 'status', 'sitter', 'förstår', 'fittor', '000', 'heller', 'pga', 'typ', 'barnet', 'ihop', 'etc', 'senare', 'egentligen', '4', 'började', 'skadade', 'attackerade', 'barnen', 'fanns', 'bevis', 'polis', 'känns', 'ungefär']\n"
     ]
    }
   ],
   "source": [
    "print(f\"Words from the negative class:\")\n",
    "print(f\"{words_neg_no_stop_words[0]}\")"
   ]
  },
  {
   "cell_type": "markdown",
   "metadata": {},
   "source": [
    "#### Save the words to lists by runnig the`save_to_lists` method"
   ]
  },
  {
   "cell_type": "code",
   "execution_count": null,
   "metadata": {},
   "outputs": [],
   "source": [
    "path =r\"C:\\Users\\Fredrik Möller\\Documents\\Recorded Future\\Project-emp\\Lists\\NCOF\"\n",
    "\n",
    "print(f\"Saving positive outliers\")\n",
    "NCOF.save_2_file(path + \"/pos_1Simga.txt\", words_pos_no_stop_words[0])\n",
    "NCOF.save_2_file(path + \"/pos_2Simga.txt\", words_pos_no_stop_words[1])\n",
    "NCOF.save_2_file(path + \"/pos_3Simga.txt\", words_pos_no_stop_words[2])\n",
    "\n",
    "print(f\"Saving negative outliers\")\n",
    "NCOF.save_2_file(path + \"/neg_1Simga.txt\", words_neg_no_stop_words[0])\n",
    "NCOF.save_2_file(path + \"/neg_2Simga.txt\", words_neg_no_stop_words[1])\n",
    "NCOF.save_2_file(path + \"/neg_3Simga.txt\", words_neg_no_stop_words[2])\n",
    "\n",
    "\n"
   ]
  },
  {
   "cell_type": "code",
   "execution_count": null,
   "metadata": {},
   "outputs": [],
   "source": []
  }
 ],
 "metadata": {
  "kernelspec": {
   "display_name": "Python 3",
   "language": "python",
   "name": "python3"
  },
  "language_info": {
   "codemirror_mode": {
    "name": "ipython",
    "version": 3
   },
   "file_extension": ".py",
   "mimetype": "text/x-python",
   "name": "python",
   "nbconvert_exporter": "python",
   "pygments_lexer": "ipython3",
   "version": "3.8.6"
  }
 },
 "nbformat": 4,
 "nbformat_minor": 4
}
