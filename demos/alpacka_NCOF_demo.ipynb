{
 "cells": [
  {
   "cell_type": "markdown",
   "metadata": {},
   "source": [
    "# Example of application of the sdlabb package for metadata extaction\n",
    "# NCOF method\n",
    "Created 13-11-20\n",
    "\n",
    "Author: Fredrik Möller \n",
    "\n"
   ]
  },
  {
   "cell_type": "markdown",
   "metadata": {},
   "source": [
    "# Install the alpacka package\n",
    "## Through pip or through github"
   ]
  },
  {
   "cell_type": "markdown",
   "metadata": {},
   "source": [
    "`pip install alpacka`"
   ]
  },
  {
   "cell_type": "markdown",
   "metadata": {},
   "source": [
    "[Link to github repo](https://github.com/BernhardMoller/alpacka)"
   ]
  },
  {
   "cell_type": "markdown",
   "metadata": {},
   "source": [
    "### Set up\n",
    "\n",
    "To be able to use the alpacka package a data set for the analysis is needed. For this demo we will use the \"Twitter US Airline Sentiment\" data set. Availabe at https://www.kaggle.com/crowdflower/twitter-airline-sentiment"
   ]
  },
  {
   "cell_type": "markdown",
   "metadata": {},
   "source": [
    "# Step by step guide for the NCOF pipeline"
   ]
  },
  {
   "cell_type": "markdown",
   "metadata": {},
   "source": [
    "### TLDR without explenations, minimum of commands to go from input to output."
   ]
  },
  {
   "cell_type": "code",
   "execution_count": 48,
   "metadata": {},
   "outputs": [
    {
     "name": "stdout",
     "output_type": "stream",
     "text": [
      " NCOF score added under 'self.score' use self.get_--- to access the result\n",
      " Inliers added under 'self.inliers' \n",
      " Positive outliers added under 'self.pos_outliers' \n",
      " Negative outliers added under 'self.neg_outliers' \n",
      " use self.get_--- to access the result\n",
      "Printing 1-sigma outliers, alphabetically sorted\n",
      "####################\n",
      "2: 0.0015798281215274072\n",
      "3: 0.001281080118776339\n",
      "delay: 0.0011050339863854744\n",
      "due: 0.0008538631773265318\n",
      "flightled: 0.0015003730826977132\n",
      "hrs: 0.0013004276213544187\n",
      "i've: 0.000848405460307582\n",
      "late: 0.0015092446473041047\n",
      "lost: 0.0009683690764148839\n",
      "luggage: 0.0013237333553476089\n",
      "minutes: 0.0011087654416230635\n",
      "never: 0.0009202932776674045\n",
      "no: 0.001153217040493423\n",
      "rude: 0.0008488396444090059\n",
      "sitting: 0.0010568187218005607\n",
      "stuck: 0.0009783586747878015\n",
      "system: 0.0008063932389948748\n",
      "told: 0.0012180117105255609\n",
      "####################\n",
      "Printing 2-sigma outliers, alphabetically sorted\n",
      "####################\n",
      "call: 0.001952761485759505\n",
      "delayed: 0.0025266299911870446\n",
      "hour: 0.0022609699128781813\n",
      "waiting: 0.0017754783755518258\n",
      "worst: 0.001895546879420585\n",
      "####################\n",
      "Printing 3-sigma outliers, alphabetically sorted\n",
      "####################\n",
      "cancelled: 0.0031084607382171206\n",
      "hold: 0.003811683551200852\n",
      "hours: 0.0038954237501866106\n",
      "####################\n"
     ]
    }
   ],
   "source": [
    "from alpacka.Pipeline import Pipeline\n",
    "import pandas as pd\n",
    "data = pd.read_csv('Tweets.csv')\n",
    "score = data.airline_sentiment\n",
    "score = pd.factorize(score)[0]\n",
    "\n",
    "from nltk.corpus import stopwords\n",
    "stop_words = set(stopwords.words('english'))\n",
    "\n",
    "p = Pipeline(num_words=10000, class_perspective=2)\n",
    "ncof, dictionary = p.ncof.calc_ncof(data.text, score,stop_words=stop_words)\n",
    "\n",
    "inliers, pos_out, neg_out = p.ncof.split_score(ncof)\n",
    "\n",
    "words_all = p.ncof.ind_2_txt(pos_out)\n",
    "\n",
    "p.ncof.get_result(ncof,words_all)"
   ]
  },
  {
   "cell_type": "markdown",
   "metadata": {},
   "source": [
    "## Long version\n",
    "\n",
    "### Load and preprocess the data \n",
    "Before you can apply the alpacka package you will need to load your for this demo we will not perform any data cleaning but this would be the time to do so.  \n",
    "\n",
    "We also load some stop words that will be used later.\n"
   ]
  },
  {
   "cell_type": "code",
   "execution_count": 49,
   "metadata": {},
   "outputs": [
    {
     "data": {
      "text/html": [
       "<div>\n",
       "<style scoped>\n",
       "    .dataframe tbody tr th:only-of-type {\n",
       "        vertical-align: middle;\n",
       "    }\n",
       "\n",
       "    .dataframe tbody tr th {\n",
       "        vertical-align: top;\n",
       "    }\n",
       "\n",
       "    .dataframe thead th {\n",
       "        text-align: right;\n",
       "    }\n",
       "</style>\n",
       "<table border=\"1\" class=\"dataframe\">\n",
       "  <thead>\n",
       "    <tr style=\"text-align: right;\">\n",
       "      <th></th>\n",
       "      <th>tweet_id</th>\n",
       "      <th>airline_sentiment</th>\n",
       "      <th>airline_sentiment_confidence</th>\n",
       "      <th>negativereason</th>\n",
       "      <th>negativereason_confidence</th>\n",
       "      <th>airline</th>\n",
       "      <th>airline_sentiment_gold</th>\n",
       "      <th>name</th>\n",
       "      <th>negativereason_gold</th>\n",
       "      <th>retweet_count</th>\n",
       "      <th>text</th>\n",
       "      <th>tweet_coord</th>\n",
       "      <th>tweet_created</th>\n",
       "      <th>tweet_location</th>\n",
       "      <th>user_timezone</th>\n",
       "    </tr>\n",
       "  </thead>\n",
       "  <tbody>\n",
       "    <tr>\n",
       "      <th>0</th>\n",
       "      <td>570306133677760513</td>\n",
       "      <td>neutral</td>\n",
       "      <td>1.0000</td>\n",
       "      <td>NaN</td>\n",
       "      <td>NaN</td>\n",
       "      <td>Virgin America</td>\n",
       "      <td>NaN</td>\n",
       "      <td>cairdin</td>\n",
       "      <td>NaN</td>\n",
       "      <td>0</td>\n",
       "      <td>@VirginAmerica What @dhepburn said.</td>\n",
       "      <td>NaN</td>\n",
       "      <td>2015-02-24 11:35:52 -0800</td>\n",
       "      <td>NaN</td>\n",
       "      <td>Eastern Time (US &amp; Canada)</td>\n",
       "    </tr>\n",
       "    <tr>\n",
       "      <th>1</th>\n",
       "      <td>570301130888122368</td>\n",
       "      <td>positive</td>\n",
       "      <td>0.3486</td>\n",
       "      <td>NaN</td>\n",
       "      <td>0.0000</td>\n",
       "      <td>Virgin America</td>\n",
       "      <td>NaN</td>\n",
       "      <td>jnardino</td>\n",
       "      <td>NaN</td>\n",
       "      <td>0</td>\n",
       "      <td>@VirginAmerica plus you've added commercials t...</td>\n",
       "      <td>NaN</td>\n",
       "      <td>2015-02-24 11:15:59 -0800</td>\n",
       "      <td>NaN</td>\n",
       "      <td>Pacific Time (US &amp; Canada)</td>\n",
       "    </tr>\n",
       "    <tr>\n",
       "      <th>2</th>\n",
       "      <td>570301083672813571</td>\n",
       "      <td>neutral</td>\n",
       "      <td>0.6837</td>\n",
       "      <td>NaN</td>\n",
       "      <td>NaN</td>\n",
       "      <td>Virgin America</td>\n",
       "      <td>NaN</td>\n",
       "      <td>yvonnalynn</td>\n",
       "      <td>NaN</td>\n",
       "      <td>0</td>\n",
       "      <td>@VirginAmerica I didn't today... Must mean I n...</td>\n",
       "      <td>NaN</td>\n",
       "      <td>2015-02-24 11:15:48 -0800</td>\n",
       "      <td>Lets Play</td>\n",
       "      <td>Central Time (US &amp; Canada)</td>\n",
       "    </tr>\n",
       "    <tr>\n",
       "      <th>3</th>\n",
       "      <td>570301031407624196</td>\n",
       "      <td>negative</td>\n",
       "      <td>1.0000</td>\n",
       "      <td>Bad Flight</td>\n",
       "      <td>0.7033</td>\n",
       "      <td>Virgin America</td>\n",
       "      <td>NaN</td>\n",
       "      <td>jnardino</td>\n",
       "      <td>NaN</td>\n",
       "      <td>0</td>\n",
       "      <td>@VirginAmerica it's really aggressive to blast...</td>\n",
       "      <td>NaN</td>\n",
       "      <td>2015-02-24 11:15:36 -0800</td>\n",
       "      <td>NaN</td>\n",
       "      <td>Pacific Time (US &amp; Canada)</td>\n",
       "    </tr>\n",
       "    <tr>\n",
       "      <th>4</th>\n",
       "      <td>570300817074462722</td>\n",
       "      <td>negative</td>\n",
       "      <td>1.0000</td>\n",
       "      <td>Can't Tell</td>\n",
       "      <td>1.0000</td>\n",
       "      <td>Virgin America</td>\n",
       "      <td>NaN</td>\n",
       "      <td>jnardino</td>\n",
       "      <td>NaN</td>\n",
       "      <td>0</td>\n",
       "      <td>@VirginAmerica and it's a really big bad thing...</td>\n",
       "      <td>NaN</td>\n",
       "      <td>2015-02-24 11:14:45 -0800</td>\n",
       "      <td>NaN</td>\n",
       "      <td>Pacific Time (US &amp; Canada)</td>\n",
       "    </tr>\n",
       "  </tbody>\n",
       "</table>\n",
       "</div>"
      ],
      "text/plain": [
       "             tweet_id airline_sentiment  airline_sentiment_confidence  \\\n",
       "0  570306133677760513           neutral                        1.0000   \n",
       "1  570301130888122368          positive                        0.3486   \n",
       "2  570301083672813571           neutral                        0.6837   \n",
       "3  570301031407624196          negative                        1.0000   \n",
       "4  570300817074462722          negative                        1.0000   \n",
       "\n",
       "  negativereason  negativereason_confidence         airline  \\\n",
       "0            NaN                        NaN  Virgin America   \n",
       "1            NaN                     0.0000  Virgin America   \n",
       "2            NaN                        NaN  Virgin America   \n",
       "3     Bad Flight                     0.7033  Virgin America   \n",
       "4     Can't Tell                     1.0000  Virgin America   \n",
       "\n",
       "  airline_sentiment_gold        name negativereason_gold  retweet_count  \\\n",
       "0                    NaN     cairdin                 NaN              0   \n",
       "1                    NaN    jnardino                 NaN              0   \n",
       "2                    NaN  yvonnalynn                 NaN              0   \n",
       "3                    NaN    jnardino                 NaN              0   \n",
       "4                    NaN    jnardino                 NaN              0   \n",
       "\n",
       "                                                text tweet_coord  \\\n",
       "0                @VirginAmerica What @dhepburn said.         NaN   \n",
       "1  @VirginAmerica plus you've added commercials t...         NaN   \n",
       "2  @VirginAmerica I didn't today... Must mean I n...         NaN   \n",
       "3  @VirginAmerica it's really aggressive to blast...         NaN   \n",
       "4  @VirginAmerica and it's a really big bad thing...         NaN   \n",
       "\n",
       "               tweet_created tweet_location               user_timezone  \n",
       "0  2015-02-24 11:35:52 -0800            NaN  Eastern Time (US & Canada)  \n",
       "1  2015-02-24 11:15:59 -0800            NaN  Pacific Time (US & Canada)  \n",
       "2  2015-02-24 11:15:48 -0800      Lets Play  Central Time (US & Canada)  \n",
       "3  2015-02-24 11:15:36 -0800            NaN  Pacific Time (US & Canada)  \n",
       "4  2015-02-24 11:14:45 -0800            NaN  Pacific Time (US & Canada)  "
      ]
     },
     "execution_count": 49,
     "metadata": {},
     "output_type": "execute_result"
    }
   ],
   "source": [
    "import pandas as pd\n",
    "data = pd.read_csv('Tweets.csv')\n",
    "\n",
    "\n",
    "from nltk.corpus import stopwords\n",
    "stop_words = set(stopwords.words('english'))\n",
    "\n",
    "data.head()"
   ]
  },
  {
   "cell_type": "markdown",
   "metadata": {},
   "source": [
    "From the code we can see that the data has been loaded but the \"airline_sentiment\" are not integer labels, we need to fix this.\n",
    "\n",
    "**IMPORTANT:** The alpacka package can only handle integer labels in the range of [0 n]. If your data set has labels in any other range you will need to translate them to the [0 n] range."
   ]
  },
  {
   "cell_type": "code",
   "execution_count": 50,
   "metadata": {},
   "outputs": [
    {
     "name": "stdout",
     "output_type": "stream",
     "text": [
      "0     neutral\n",
      "1    positive\n",
      "2     neutral\n",
      "3    negative\n",
      "4    negative\n",
      "5    negative\n",
      "6    positive\n",
      "7     neutral\n",
      "8    positive\n",
      "9    positive\n",
      "Name: airline_sentiment, dtype: object\n",
      "(array([0, 1, 0, ..., 0, 2, 0], dtype=int64), Index(['neutral', 'positive', 'negative'], dtype='object'))\n",
      "[0 1 0 2 2 2 1 0 1 1]\n"
     ]
    }
   ],
   "source": [
    "print(data.airline_sentiment[:10])\n",
    "score = pd.factorize(data.airline_sentiment)\n",
    "print(score[:10])\n",
    "score= score[0]\n",
    "print(score[:10])"
   ]
  },
  {
   "cell_type": "markdown",
   "metadata": {},
   "source": [
    "We can now see that the data is transformed from stings to integers in the range of [0 2]. With the mapping neutral: 0 , positive: 1, negative: 2."
   ]
  },
  {
   "cell_type": "markdown",
   "metadata": {},
   "source": [
    "### Importing and initiating alpacka\n",
    "Now we are ready to import and initiate alpacka. "
   ]
  },
  {
   "cell_type": "code",
   "execution_count": 1,
   "metadata": {},
   "outputs": [
    {
     "ename": "TypeError",
     "evalue": "__init__() got an unexpected keyword argument 'num_words'",
     "output_type": "error",
     "traceback": [
      "\u001b[1;31m---------------------------------------------------------------------------\u001b[0m",
      "\u001b[1;31mTypeError\u001b[0m                                 Traceback (most recent call last)",
      "\u001b[1;32m<ipython-input-1-7e726e0919c3>\u001b[0m in \u001b[0;36m<module>\u001b[1;34m\u001b[0m\n\u001b[0;32m      1\u001b[0m \u001b[1;32mfrom\u001b[0m \u001b[0malpacka\u001b[0m\u001b[1;33m.\u001b[0m\u001b[0mPipeline\u001b[0m \u001b[1;32mimport\u001b[0m \u001b[0mPipeline\u001b[0m\u001b[1;33m\u001b[0m\u001b[1;33m\u001b[0m\u001b[0m\n\u001b[0;32m      2\u001b[0m \u001b[1;33m\u001b[0m\u001b[0m\n\u001b[1;32m----> 3\u001b[1;33m \u001b[0mp\u001b[0m \u001b[1;33m=\u001b[0m \u001b[0mPipeline\u001b[0m\u001b[1;33m(\u001b[0m\u001b[0mnum_words\u001b[0m\u001b[1;33m=\u001b[0m\u001b[1;36m10000\u001b[0m\u001b[1;33m,\u001b[0m \u001b[0mclass_perspective\u001b[0m \u001b[1;33m=\u001b[0m \u001b[1;36m2\u001b[0m\u001b[1;33m)\u001b[0m\u001b[1;33m\u001b[0m\u001b[1;33m\u001b[0m\u001b[0m\n\u001b[0m",
      "\u001b[1;31mTypeError\u001b[0m: __init__() got an unexpected keyword argument 'num_words'"
     ]
    }
   ],
   "source": [
    "from alpacka.Pipeline import Pipeline\n",
    "\n",
    "p = Pipeline(num_words=10000, class_perspective = 2)"
   ]
  },
  {
   "cell_type": "markdown",
   "metadata": {},
   "source": [
    "There are some setting that we can make in the NCOF method that we need to specify before we start. One of which is how many unique tokens do we want to to take into consideration in the analysis, variable `num_words`. The defult setting for this variable is `None` meaning that all unique tokens will be used in the analysis. For \"large\" data sets this choice is quite ambitious given that the number of tokens that appear only once or twice in the a corpus. For this walkthrough we will limit the analysis to the $10,000$ most common words in the corpus.\n",
    "\n",
    "Another setting that we need to specify is for what class we want the results presented for, variable `class_perspective`. As the NCOF method presents results regarding if a token is overrepresented in a class compared to the rest of the corpus, which class to investigate nees to be specified, the defult value of `class_perspective` is `1`. For this demo we have chosen the perspective of class 2 (negatives)."
   ]
  },
  {
   "cell_type": "markdown",
   "metadata": {},
   "source": [
    "Now the `NCOF` pipeline is initiated through the wrapper `Pipeline` and the induvidual analysis methods can be accessed be calling:"
   ]
  },
  {
   "cell_type": "markdown",
   "metadata": {},
   "source": [
    "`p.ncof.some_functions()`"
   ]
  },
  {
   "cell_type": "markdown",
   "metadata": {},
   "source": [
    "Now we are ready to start the analysis of our data. \n",
    "\n",
    "Note that the  `.some_functions()` function is a placeholder and do exist."
   ]
  },
  {
   "cell_type": "markdown",
   "metadata": {},
   "source": [
    "#### Calculate NCOF\n",
    "Now we are ready to calculate the NCOF score for the review data and its scores. This is done by calling the `.calc_ncof(data,labels)` function.  For this example the input in the `data` field is the texts, and the `labels` is the review scores. "
   ]
  },
  {
   "cell_type": "code",
   "execution_count": 52,
   "metadata": {},
   "outputs": [
    {
     "name": "stdout",
     "output_type": "stream",
     "text": [
      " NCOF score added under 'self.score' use self.get_--- to access the result\n"
     ]
    }
   ],
   "source": [
    "ncof, dictionary = p.ncof.calc_ncof(data.text, score)"
   ]
  },
  {
   "cell_type": "markdown",
   "metadata": {},
   "source": [
    "Stop words can also automatically be removed from the NCOF calculating by passing a set of stop words in the `.calc_ncof` function. The reason you might want to remove stop words before NCOF calculations is due tothe stop words altering frequency distrubution of \"value adding\" words by by increasing the frequencylimit of when a word is considered as an NCOF outliers. Top top is to test with and without the stop word removal and you will see the difference. \n",
    "\n",
    "For this demo we keep the score where stop words has been removed."
   ]
  },
  {
   "cell_type": "code",
   "execution_count": 53,
   "metadata": {},
   "outputs": [
    {
     "name": "stdout",
     "output_type": "stream",
     "text": [
      " NCOF score added under 'self.score' use self.get_--- to access the result\n"
     ]
    }
   ],
   "source": [
    "ncof_score, dictionary = p.ncof.calc_ncof(data.text, score,stop_words=stop_words)"
   ]
  },
  {
   "cell_type": "markdown",
   "metadata": {},
   "source": [
    "We now have an array, `ncof_score`, that contains the NCOF results for our data. This array will have the size `[1,num_words]` and positive and negatives values, indicating if a token is more or less common in investigated class (positives values), or the remaining classes (negative values).\n"
   ]
  },
  {
   "cell_type": "code",
   "execution_count": 54,
   "metadata": {},
   "outputs": [
    {
     "name": "stdout",
     "output_type": "stream",
     "text": [
      "[-0.03774483 -0.02481352 -0.01183599 -0.00601852 -0.01548369 -0.04066156\n",
      " -0.03846028 -0.00513828  0.00310846 -0.00088758]\n"
     ]
    }
   ],
   "source": [
    "print(ncof_score[:10])"
   ]
  },
  {
   "cell_type": "markdown",
   "metadata": {},
   "source": [
    "In addition to an array with the scores the `.calc_ncof()` function returns a dictionary that maps the indexes in the  `ncof_score ` array to its text representations, and can be accessed by calling:"
   ]
  },
  {
   "cell_type": "code",
   "execution_count": 55,
   "metadata": {},
   "outputs": [
    {
     "name": "stdout",
     "output_type": "stream",
     "text": [
      "(0, 'i')\n",
      "(1, '@united')\n",
      "(2, 'flight')\n",
      "(3, '@usairways')\n",
      "(4, '@americanair')\n",
      "(5, '@southwestair')\n",
      "(6, '@jetblue')\n",
      "(7, 'get')\n",
      "(8, 'cancelled')\n",
      "(9, 'customer')\n"
     ]
    }
   ],
   "source": [
    "w = list(dictionary.items())[:10]\n",
    "for item in w:\n",
    "    print(item)"
   ]
  },
  {
   "cell_type": "markdown",
   "metadata": {},
   "source": [
    "#### Sorting results\n",
    "To sort the array into inliers and outliers for the positive and negative values the function `.split_score()`needs to be called. The inliers can be accessed through:\n",
    "\n",
    "**Important:** The the results returned as `pos_outliers` will containd the NCOF outliers that are identified from the class selected as the `class_perspective`. Meaning that they are positive from the perspective that are chosen, in out case we use a positive notation for the negative sentiment due to our selected class perspective."
   ]
  },
  {
   "cell_type": "code",
   "execution_count": 56,
   "metadata": {},
   "outputs": [
    {
     "name": "stdout",
     "output_type": "stream",
     "text": [
      " Inliers added under 'self.inliers' \n",
      " Positive outliers added under 'self.pos_outliers' \n",
      " Negative outliers added under 'self.neg_outliers' \n",
      " use self.get_--- to access the result\n"
     ]
    }
   ],
   "source": [
    "inliers, pos_outliers,neg_outliers = p.ncof.split_score(ncof_score)"
   ]
  },
  {
   "cell_type": "markdown",
   "metadata": {},
   "source": [
    "Which will return the indexes of the words in the dictionary that are considered as outliers in the NCOF results.\n",
    "\n",
    "The results are sorted within the `ncof_pos `and `ncof_neg ` as the following:\n",
    "\n",
    "ncof_pos[0] = $\\mu+\\sigma\\leq result <\\mu+2\\sigma$\n",
    "   \n",
    "ncof_pos[1] = $\\mu+2\\sigma\\leq result <\\mu+3\\sigma$\n",
    "   \n",
    "ncof_pos[2] = $\\mu+3\\sigma\\leq result$\n",
    "   \n",
    "   \n",
    "ncof_neg[0] = $\\mu-\\sigma\\geq result >\\mu-2\\sigma$\n",
    "   \n",
    "ncof_neg[1] = $\\mu-2\\sigma\\geq result >\\mu-3\\sigma$\n",
    "\n",
    "ncof_neg[2] = $\\mu-3\\sigma\\geq result$"
   ]
  },
  {
   "cell_type": "markdown",
   "metadata": {},
   "source": [
    "#### Plotting results\n",
    "These results can be plotted by calling the function `.scatter()` which will give visual information regarding what tokens are over or under represented in the investigated class. "
   ]
  },
  {
   "cell_type": "code",
   "execution_count": 57,
   "metadata": {},
   "outputs": [
    {
     "data": {
      "image/png": "[encoded data removed]",
      "text/plain": [
       "<Figure size 576x396 with 1 Axes>"
      ]
     },
     "metadata": {},
     "output_type": "display_data"
    },
    {
     "data": {
      "image/png": "[encoded data removed]",
      "text/plain": [
       "<Figure size 576x396 with 1 Axes>"
      ]
     },
     "metadata": {},
     "output_type": "display_data"
    }
   ],
   "source": [
    "p.ncof.scatter(ncof_score, inliers, pos_outliers,neg_outliers)"
   ]
  },
  {
   "cell_type": "markdown",
   "metadata": {},
   "source": [
    "#### Converting results from indexes to text\n",
    "Since it is quite difficult to interpret the socre for each the indexes directly, it is suggested that the indexes are transformed back to their text representations. This can be done by calling the `.ncof.ind_2_txt(data)`function, the function input should be either indexes of the positive or negative outlers. "
   ]
  },
  {
   "cell_type": "code",
   "execution_count": 58,
   "metadata": {},
   "outputs": [],
   "source": [
    "words_pos = p.ncof.ind_2_txt(pos_outliers)\n",
    "\n",
    "words_neg = p.ncof.ind_2_txt(neg_outliers)"
   ]
  },
  {
   "cell_type": "markdown",
   "metadata": {},
   "source": [
    "If the text results want to be cleaned from stop words for clarification. The function `.remove_stop_words(data,stop_words)` can be called. This functon compares the content of the input `data` to that of the input `stop-words` and removes any matches between them from the `data`. For this walkthrough we will use the stop words available from the NLTK package.\n",
    "\n",
    "We have already removed the stop words from the data set when we calculated the NCOF score, so we will not need to preform this step. That is why this part is commented out. "
   ]
  },
  {
   "cell_type": "code",
   "execution_count": 59,
   "metadata": {},
   "outputs": [],
   "source": [
    "# words_pos = p.ncof.remove_stop_words(words_pos,stop_words)\n",
    "    \n",
    "# words_neg = p.ncof.remove_stop_words(words_neg,stop_words)"
   ]
  },
  {
   "cell_type": "markdown",
   "metadata": {},
   "source": [
    "#### Print results to terminal. \n",
    "We have now gone through all the steps required to produce, plot, and clean the reults from the NCOF analysis method. The last part is to either save the results to a file or to print them to the terminal. Since format to save the results to is a user preference no function for this is provided in the alpacka package, however the results can be printed to the terminal by calling the following function.\n",
    "\n",
    "The input variable `sort` can be set to either `True` or `False` and decides if the results should be printed as alphabetically sorted or not. \n",
    "   "
   ]
  },
  {
   "cell_type": "code",
   "execution_count": 60,
   "metadata": {},
   "outputs": [
    {
     "name": "stdout",
     "output_type": "stream",
     "text": [
      "printing outliers from the investigated class\n",
      "Printing 1-sigma outliers, alphabetically sorted\n",
      "####################\n",
      "2: 0.0015798281215274072\n",
      "3: 0.001281080118776339\n",
      "delay: 0.0011050339863854744\n",
      "due: 0.0008538631773265318\n",
      "flightled: 0.0015003730826977132\n",
      "hrs: 0.0013004276213544187\n",
      "i've: 0.000848405460307582\n",
      "late: 0.0015092446473041047\n",
      "lost: 0.0009683690764148839\n",
      "luggage: 0.0013237333553476089\n",
      "minutes: 0.0011087654416230635\n",
      "never: 0.0009202932776674045\n",
      "no: 0.001153217040493423\n",
      "rude: 0.0008488396444090059\n",
      "sitting: 0.0010568187218005607\n",
      "stuck: 0.0009783586747878015\n",
      "system: 0.0008063932389948748\n",
      "told: 0.0012180117105255609\n",
      "####################\n",
      "Printing 2-sigma outliers, alphabetically sorted\n",
      "####################\n",
      "call: 0.001952761485759505\n",
      "delayed: 0.0025266299911870446\n",
      "hour: 0.0022609699128781813\n",
      "waiting: 0.0017754783755518258\n",
      "worst: 0.001895546879420585\n",
      "####################\n",
      "Printing 3-sigma outliers, alphabetically sorted\n",
      "####################\n",
      "cancelled: 0.0031084607382171206\n",
      "hold: 0.003811683551200852\n",
      "hours: 0.0038954237501866106\n",
      "####################\n",
      " \n",
      "printing outliers from the remaining classes\n",
      "Printing 1-sigma outliers, alphabetically sorted\n",
      "####################\n",
      ":-): -0.001224878658442488\n",
      ";): -0.0012787057389393797\n",
      "?: -0.0009920538946463758\n",
      "@imaginedragons: -0.0017586176708307213\n",
      "@jetblue:: -0.001180039719003264\n",
      "aa: -0.0012261624797918619\n",
      "able: -0.001474830067105986\n",
      "add: -0.001241973092832909\n",
      "airline: -0.0013546050967451861\n",
      "airport: -0.001381182268122609\n",
      "airways: -0.0011933910094662767\n",
      "always: -0.001297238182345486\n",
      "any: -0.0016760739828542495\n",
      "are: -0.0014507033852092714\n",
      "awesome!: -0.0010332340561325028\n",
      "big: -0.0011069178681924025\n",
      "booked: -0.0011156616556511794\n",
      "booking: -0.001162014136983074\n",
      "ceo: -0.001329863721335323\n",
      "chance: -0.0014287189950072073\n",
      "check: -0.0014554743081973435\n",
      "class: -0.0013127141870817793\n",
      "companion: -0.0010184652784409503\n",
      "confirmation: -0.0011594001387452474\n",
      "crew: -0.0018084080426697422\n",
      "dfw: -0.0010053208191350767\n",
      "do: -0.0015112919490948692\n",
      "earlier: -0.0011127886707588668\n",
      "email: -0.0010631734963667838\n",
      "everything: -0.0010183809124666386\n",
      "forward: -0.0013409039881550615\n",
      "free: -0.0016444059132395953\n",
      "getting: -0.0010105341825551353\n",
      "happy: -0.0011761395318170514\n",
      "have: -0.0010238181076984427\n",
      "hi: -0.0010774529900937904\n",
      "hope: -0.0016449473527014884\n",
      "if: -0.0011275691371402385\n",
      "it: -0.001252591441007807\n",
      "it!: -0.0012657212672580857\n",
      "it.: -0.0010206456693441167\n",
      "jetblue: -0.0012394845041436852\n",
      "job: -0.0013585281733175564\n",
      "keep: -0.0010500900256555834\n",
      "last: -0.0011635833555056303\n",
      "left: -0.0012919146191991832\n",
      "morning: -0.0010296918546306825\n",
      "my: -0.0011382021183707315\n",
      "name: -0.0009931191961487914\n",
      "nice: -0.0018404107205891498\n",
      "now.: -0.0011790998270494514\n",
      "number: -0.0016046549276718272\n",
      "oh: -0.0010368055237455123\n",
      "ok: -0.0011807557791453313\n",
      "quick: -0.0013769352071750598\n",
      "really: -0.0010799334112257337\n",
      "right: -0.0011706442923563498\n",
      "san: -0.0012292505521718765\n",
      "send: -0.0010491788230461965\n",
      "service: -0.0015383016025147505\n",
      "snow: -0.001226130269314897\n",
      "so: -0.0014361326943508144\n",
      "southwest: -0.0011704374611992104\n",
      "start: -0.0013166173186337673\n",
      "sure: -0.0013501048491014194\n",
      "team: -0.0011239133035529174\n",
      "thanks,: -0.0011553950637975775\n",
      "that's: -0.0012608026221020174\n",
      "thx: -0.0014491898433166008\n",
      "ticket: -0.00101326712484325\n",
      "tickets: -0.0017274997850020048\n",
      "time: -0.0017452792225910547\n",
      "today: -0.0012376539313676308\n",
      "today.: -0.0015756383787367523\n",
      "tonight: -0.001190815110436966\n",
      "travel: -0.0015821525641607915\n",
      "trip: -0.001742999255891219\n",
      "u: -0.0010042414613438302\n",
      "use: -0.0012451109531112583\n",
      "vegas: -0.001551945304174698\n",
      "via: -0.0015024901174071942\n",
      "wall: -0.000998975365659661\n",
      "we: -0.0017633944825503445\n",
      "weather: -0.0010959303336367746\n",
      "well: -0.0013295379461278954\n",
      "will: -0.001624112629976152\n",
      "wish: -0.001067137616513445\n",
      "work: -0.001277154674604957\n",
      "yes: -0.0013961778219916824\n",
      "you,: -0.0010132202813106907\n",
      "####################\n",
      "Printing 2-sigma outliers, alphabetically sorted\n",
      "####################\n",
      "#destinationdragons: -0.0026009172960637554\n",
      "&amp;: -0.0026150004332579574\n",
      "amazing: -0.0022485948227452487\n",
      "awesome: -0.0024547433273607493\n",
      "back: -0.002024066182784422\n",
      "change: -0.001980324178557815\n",
      "could: -0.0019005949432512766\n",
      "first: -0.002437896678928476\n",
      "go: -0.002043936970636261\n",
      "home: -0.002049257589416789\n",
      "i'll: -0.0023606413992555667\n",
      "is: -0.002288308197097982\n",
      "just: -0.0026825533025633796\n",
      "looking: -0.0021510931033414554\n",
      "made: -0.0023708958730145214\n",
      "make: -0.0023331998688013163\n",
      "next: -0.002373206896657795\n",
      "rt: -0.0023157673049736026\n",
      "sent: -0.0022065415578582503\n",
      "the: -0.002267433096338401\n",
      "tomorrow: -0.0022456028050293654\n",
      "way: -0.0026647837628319005\n",
      "####################\n",
      "Printing 3-sigma outliers, alphabetically sorted\n",
      "####################\n",
      "-: -0.006905188326979183\n",
      ":): -0.005489403527761453\n",
      "@americanair: -0.015483694744606383\n",
      "@jetblue: -0.03846028275806999\n",
      "@southwestair: -0.04066155937377759\n",
      "@united: -0.024813518714756892\n",
      "@usairways: -0.006018520682246141\n",
      "@virginamerica: -0.011416776410246975\n",
      "appreciate: -0.0029073590833668256\n",
      "best: -0.004258668699808095\n",
      "can: -0.003002849631809558\n",
      "dm: -0.004250390641387661\n",
      "fleek.: -0.004247878586545515\n",
      "fleet's: -0.00419912188249871\n",
      "flight: -0.011835986335550216\n",
      "flights: -0.004326127067203112\n",
      "fly: -0.0030983666795442685\n",
      "flying: -0.004520728532386241\n",
      "follow: -0.003452475826472045\n",
      "get: -0.0051382796949727225\n",
      "good: -0.004768598637949761\n",
      "got: -0.00463236496771482\n",
      "great: -0.009278659123036052\n",
      "guys: -0.0033601119376113243\n",
      "help: -0.0032667494470278477\n",
      "i: -0.03774482785375973\n",
      "i'm: -0.0031164543149193773\n",
      "know: -0.004359427711534008\n",
      "like: -0.0030508821081570167\n",
      "love: -0.006920532634215123\n",
      "much: -0.003148578393261367\n",
      "need: -0.0033705818980781796\n",
      "new: -0.004259320826989713\n",
      "our: -0.004310615330857316\n",
      "please: -0.004890809344739889\n",
      "see: -0.004159490506521276\n",
      "thank: -0.023861625935023587\n",
      "thanks: -0.019934646593774297\n",
      "thanks!: -0.006975948878254953\n",
      "thanks.: -0.003566903248317636\n",
      "us: -0.0029778944112188012\n",
      "would: -0.004008959765137958\n",
      "you: -0.0027940180615775596\n",
      "you!: -0.006881194822968152\n",
      "you.: -0.004105477116654391\n",
      "“@jetblue:: -0.0033279047073605074\n",
      "####################\n"
     ]
    }
   ],
   "source": [
    "print(f\"printing outliers from the investigated class\")\n",
    "p.ncof.get_result(ncof_score,words_pos, sort = True)\n",
    "print(f\" \")\n",
    "print(f\"printing outliers from the remaining classes\")\n",
    "p.ncof.get_result(ncof_score,words_neg, sort = True)"
   ]
  }
 ],
 "metadata": {
  "kernelspec": {
   "display_name": "Python 3",
   "language": "python",
   "name": "python3"
  },
  "language_info": {
   "codemirror_mode": {
    "name": "ipython",
    "version": 3
   },
   "file_extension": ".py",
   "mimetype": "text/x-python",
   "name": "python",
   "nbconvert_exporter": "python",
   "pygments_lexer": "ipython3",
   "version": "3.8.6"
  }
 },
 "nbformat": 4,
 "nbformat_minor": 4
}
