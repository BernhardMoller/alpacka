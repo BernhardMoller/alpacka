{
 "cells": [
  {
   "cell_type": "markdown",
   "metadata": {},
   "source": [
    "# Example of application of the sdlabb package for metadata extaction\n",
    "# NCOF method\n",
    "Created 13-11-20\n",
    "\n",
    "Author: Fredrik Möller \n",
    "\n"
   ]
  },
  {
   "cell_type": "markdown",
   "metadata": {},
   "source": [
    "# Walkthrough\n",
    "This walkthrough will only deal with the `NCOF`method available in the package, an example of the `TF-IDF` based method is available in the demos folder. This walkthrough is available as a notebook in the demos folder.\n",
    "### Install the alpacka package through pip, or download the package through github."
   ]
  },
  {
   "cell_type": "markdown",
   "metadata": {},
   "source": [
    "`pip install alpacka`"
   ]
  },
  {
   "cell_type": "markdown",
   "metadata": {},
   "source": [
    "[Link to github repo](https://github.com/BernhardMoller/alpacka)"
   ]
  },
  {
   "cell_type": "markdown",
   "metadata": {},
   "source": [
    "### Set up\n",
    "\n",
    "To be able to use the alpacka package a data set for the analysis is needed. For this walkthrough we will use the Amazon reviews data set, available at (https://jmcauley.ucsd.edu/data/amazon/) "
   ]
  },
  {
   "cell_type": "markdown",
   "metadata": {},
   "source": [
    "### Load and preprocess the data \n",
    "Before you can pply the alpacka package you will need to load your data and perform preprocessessing/ data cleaning to you likeing. \n",
    "\n",
    "For this walkthrough we will load the data using `Pandas` and do some quick preprocessesing using `Keras`. "
   ]
  },
  {
   "cell_type": "code",
   "execution_count": 2,
   "metadata": {},
   "outputs": [],
   "source": [
    "import pandas as pd\n",
    "path_to_data = 'Reviews.csv'\n",
    "data = pd.read_csv(path_to_data)\n",
    "nr_samples = 100000\n",
    "score = data['Score']\n",
    "text = data['Text']\n",
    "score = score[0:nr_samples]\n",
    "text = text[0:nr_samples]\n",
    "\n",
    "score = score[0:nr_samples]  \n",
    "score = [elm - 1 for elm in score]"
   ]
  },
  {
   "cell_type": "markdown",
   "metadata": {},
   "source": [
    "From the code we can see that the data has been loaded and $100,000$ samples has been seperated into the texts and the review score. \n",
    "\n",
    "**IMPORTANT:** The translation of the review score is preformed due to the scores have the range of `[1 5]` and alpacka requires all labels to have the range of `[0 n]`. Thus the range is translated from `[1 5]` to `[0 4]`. "
   ]
  },
  {
   "cell_type": "code",
   "execution_count": 3,
   "metadata": {},
   "outputs": [
    {
     "name": "stdout",
     "output_type": "stream",
     "text": [
      "I have bought several of the Vitality canned dog food products and have found them all to be of good quality. The product looks more like a stew than a processed meat and it smells better. My Labrador is finicky and she appreciates this product better than  most.\n"
     ]
    }
   ],
   "source": [
    "print(text[0])"
   ]
  },
  {
   "cell_type": "code",
   "execution_count": 4,
   "metadata": {},
   "outputs": [
    {
     "name": "stdout",
     "output_type": "stream",
     "text": [
      "[4, 0, 3, 1, 4, 3, 4, 4, 4, 4]\n"
     ]
    }
   ],
   "source": [
    "print(score[0:10])"
   ]
  },
  {
   "cell_type": "markdown",
   "metadata": {},
   "source": [
    "### Preprocess the data\n",
    "For this walkthrough the data will be preprocessed by passing it though the Tokenizer available in the `Keras`package. This method is not a best practice but good eough for this walkthrough. \n"
   ]
  },
  {
   "cell_type": "code",
   "execution_count": 5,
   "metadata": {},
   "outputs": [
    {
     "name": "stdout",
     "output_type": "stream",
     "text": [
      "i have bought several of the vitality canned dog food products and have found them all to be of good quality the product looks more like a stew than a processed meat and it smells better my labrador is finicky and she appreciates this product better than most\n"
     ]
    }
   ],
   "source": [
    "from tensorflow.keras.preprocessing.text import Tokenizer\n",
    "\n",
    "t = Tokenizer(lower = True)  \n",
    "t.fit_on_texts(text)  \n",
    "integers = t.texts_to_sequences(text)  \n",
    "text = t.sequences_to_texts(integers)\n",
    "print(text[0])"
   ]
  },
  {
   "cell_type": "markdown",
   "metadata": {},
   "source": [
    "All the data is now transformed to lowercase and characters such as \n",
    "'!\"#$%&()*+,-./:;<=>?@[\\\\]^_`{|}~\\t\\n' are removed. \n",
    "\n",
    "**IMPORTANT:** It is recomended to convert all data to lower or uppercase and remove special characters from the data since alpacka does differentiate between `spam` ,`Spam`, and `spam!`, which can cause skewed results if you interested in the distrubution of `spam` in you data.\n",
    "\n"
   ]
  },
  {
   "cell_type": "markdown",
   "metadata": {},
   "source": [
    "### Importing and initiating alpacka\n",
    "Now we are ready to import and initiate alpacka. "
   ]
  },
  {
   "cell_type": "code",
   "execution_count": 6,
   "metadata": {},
   "outputs": [],
   "source": [
    "from alpacka.Pipeline import Pipeline\n",
    "\n",
    "p = Pipeline()"
   ]
  },
  {
   "cell_type": "markdown",
   "metadata": {},
   "source": [
    "Now the `NCOF` and `TF-IDF` pipelines are initiated through the wrapper `Pipeline` and the induvidual analysis methods can be accessed be calling:"
   ]
  },
  {
   "cell_type": "markdown",
   "metadata": {},
   "source": [
    "\n",
    "`p.ncof.some_functions()`\n",
    "\n",
    "`p.tfidf.some_functions()`"
   ]
  },
  {
   "cell_type": "markdown",
   "metadata": {},
   "source": [
    "Now we are ready to start the analysis of our data. \n",
    "\n",
    "Note that the  `.some_functions()` function is a placeholder and do exist."
   ]
  },
  {
   "cell_type": "markdown",
   "metadata": {},
   "source": [
    "### NCOF method:\n",
    "There are some setting that we can make in the NCOF method that we need to specify before we start. One of which is how many unique tokens do we want to to take into consideration in the analysis, variable `num_words`. The defult setting for this variable is `None` meaning that all unique tokens will be used in the analysis. For \"large\" data sets this choice is quite ambitious given that the number of tokens that appear only once or twice in the a corpus. \n",
    "\n",
    "Another setting that we need to specify is for what class we want the results presented for, variable `class_perspective`. As the NCOF method presents results regarding if a token is overrepresented in a class compared to the rest of the corpus, which class to investigate nees to be specified, the defult value of `class_perspective` is `1`.\n"
   ]
  },
  {
   "cell_type": "code",
   "execution_count": 7,
   "metadata": {},
   "outputs": [],
   "source": [
    "p.ncof.set_num_words(10000)\n",
    "p.ncof.set_class_perspective(0)"
   ]
  },
  {
   "cell_type": "markdown",
   "metadata": {},
   "source": [
    "For this walkthrough we will limit the analysis to the $10,000$ most common words in the corpus."
   ]
  },
  {
   "cell_type": "markdown",
   "metadata": {},
   "source": [
    "#### Calculate NCOF\n",
    "Now we are ready to calculate the NCOF score for the review data and its scores. This is done by calling the `.calc_ncof(data,labels)` function.  For this example the input in the `data` field is the texts, and the `labels` is the review scores. "
   ]
  },
  {
   "cell_type": "code",
   "execution_count": 8,
   "metadata": {},
   "outputs": [
    {
     "name": "stdout",
     "output_type": "stream",
     "text": [
      " NCOF score added under 'self.score' use self.get_--- to access the result\n"
     ]
    }
   ],
   "source": [
    "p.ncof.calc_ncof(text, score)"
   ]
  },
  {
   "cell_type": "markdown",
   "metadata": {},
   "source": [
    "We now have an array, `ncof_score`, that contains the NCOF results for our data. This array will have the size `[1,num_words]` and positive and negatives values, indicating if a token is more or less common in investigated class (positives values), or the remaining classes (negative values). The array can be accessed by calling: \n"
   ]
  },
  {
   "cell_type": "code",
   "execution_count": 9,
   "metadata": {},
   "outputs": [
    {
     "name": "stdout",
     "output_type": "stream",
     "text": [
      "[-0.12971953 -0.09604453 -0.07833825 -0.0875291  -0.06695268 -0.06387065\n",
      " -0.05505911 -0.04960524 -0.04778746 -0.04113965]\n"
     ]
    }
   ],
   "source": [
    "ncof_score = p.ncof.get_score()\n",
    "print(ncof_score[:10])"
   ]
  },
  {
   "cell_type": "markdown",
   "metadata": {},
   "source": [
    "In addition to an array with the scores the `.calc_ncof()` function saves a dictionary that maps the indexes in the  `ncof_score ` array to its text representations, and can be accessed by calling:"
   ]
  },
  {
   "cell_type": "code",
   "execution_count": 10,
   "metadata": {},
   "outputs": [
    {
     "name": "stdout",
     "output_type": "stream",
     "text": [
      "(0, 'the')\n",
      "(1, 'i')\n",
      "(2, 'and')\n",
      "(3, 'a')\n",
      "(4, 'to')\n",
      "(5, 'it')\n",
      "(6, 'of')\n",
      "(7, 'is')\n",
      "(8, 'br')\n",
      "(9, 'this')\n"
     ]
    }
   ],
   "source": [
    "dictionary = p.ncof.get_dict()\n",
    "\n",
    "w = list(dictionary.items())[:10]\n",
    "for item in w:\n",
    "    print(item)"
   ]
  },
  {
   "cell_type": "markdown",
   "metadata": {},
   "source": [
    "#### Sorting results\n",
    "To sort the array into inliers and outliers for the positive and negative values the function `.split_score()`needs to be called. The inliers can be accessed through: "
   ]
  },
  {
   "cell_type": "code",
   "execution_count": 11,
   "metadata": {},
   "outputs": [
    {
     "name": "stdout",
     "output_type": "stream",
     "text": [
      " Inliers added under 'self.inliers' \n",
      " Positive outliers added under 'self.pos_outliers' \n",
      " Negative outliers added under 'self.neg_outliers' \n",
      " use self.get_--- to access the result\n"
     ]
    }
   ],
   "source": [
    "p.ncof.split_score()\n",
    "\n",
    "ncof_pos = p.ncof.get_pos_outliers()  \n",
    "ncof_neg = p.ncof.get_neg_outliers()"
   ]
  },
  {
   "cell_type": "markdown",
   "metadata": {},
   "source": [
    "Which will return the indexes of the words in the dictionary that are considered as outliers in the NCOF results.\n",
    "\n",
    "The results are sorted within the `ncof_pos `and `ncof_neg ` as the following:\n",
    "\n",
    "ncof_pos[0] = $\\mu+\\sigma\\leq result <\\mu+2\\sigma$\n",
    "   \n",
    "ncof_pos[1] = $\\mu+2\\sigma\\leq result <\\mu+3\\sigma$\n",
    "   \n",
    "ncof_pos[2] = $\\mu+3\\sigma\\leq result$\n",
    "   \n",
    "   \n",
    "ncof_neg[0] = $\\mu-\\sigma\\geq result >\\mu-2\\sigma$\n",
    "   \n",
    "ncof_neg[1] = $\\mu-2\\sigma\\geq result >\\mu-3\\sigma$\n",
    "\n",
    "ncof_neg[2] = $\\mu-3\\sigma\\geq result$"
   ]
  },
  {
   "cell_type": "markdown",
   "metadata": {},
   "source": [
    "#### Plotting results\n",
    "These results can be plotted by calling the function `.scatter()` which will give visual information regarding what tokens are over or under represented in the investigated class. "
   ]
  },
  {
   "cell_type": "code",
   "execution_count": 12,
   "metadata": {},
   "outputs": [
    {
     "data": {
      "image/png": "[encoded data removed]",
      "text/plain": [
       "<Figure size 576x396 with 1 Axes>"
      ]
     },
     "metadata": {},
     "output_type": "display_data"
    },
    {
     "data": {
      "image/png": "[encoded data removed]",
      "text/plain": [
       "<Figure size 576x396 with 1 Axes>"
      ]
     },
     "metadata": {},
     "output_type": "display_data"
    }
   ],
   "source": [
    "p.ncof.scatter()"
   ]
  },
  {
   "cell_type": "markdown",
   "metadata": {},
   "source": [
    "#### Converting results from indexes to text\n",
    "Since it is quite difficult to interpret the socre for each the indexes directly, it is suggested that the indexes are transformed back to their text representations. This can be done by calling the `.ncof.ind_2_txt(data)`function, the function input should be either indexes of the positive or negative outlers. "
   ]
  },
  {
   "cell_type": "code",
   "execution_count": 13,
   "metadata": {},
   "outputs": [],
   "source": [
    "words_pos = p.ncof.ind_2_txt(ncof_pos)\n",
    "\n",
    "words_neg = p.ncof.ind_2_txt(ncof_neg)"
   ]
  },
  {
   "cell_type": "markdown",
   "metadata": {},
   "source": [
    "If the text results want to be cleaned from stop words for clarification. The function `.remove_stop_words(data,stop_words)` can be called. This functon compares the content of the input `data` to that of the input `stop-words` and removes any matches between them from the `data`. For this walkthrough we will use the stop words available from the NLTK package."
   ]
  },
  {
   "cell_type": "code",
   "execution_count": 14,
   "metadata": {
    "scrolled": true
   },
   "outputs": [
    {
     "name": "stderr",
     "output_type": "stream",
     "text": [
      "[nltk_data] Downloading package stopwords to C:\\Users\\Fredrik\n",
      "[nltk_data]     Möller\\AppData\\Roaming\\nltk_data...\n",
      "[nltk_data]   Package stopwords is already up-to-date!\n"
     ]
    }
   ],
   "source": [
    "import nltk  \n",
    "from nltk.corpus import stopwords  \n",
    "nltk.download('stopwords')  \n",
    "stop_words = set(stopwords.words('english'))"
   ]
  },
  {
   "cell_type": "markdown",
   "metadata": {},
   "source": [
    "Now stop words can be removed from our results."
   ]
  },
  {
   "cell_type": "code",
   "execution_count": 15,
   "metadata": {},
   "outputs": [],
   "source": [
    "words_pos = p.ncof.remove_stop_words(words_pos,stop_words)\n",
    "    \n",
    "words_neg = p.ncof.remove_stop_words(words_neg,stop_words)"
   ]
  },
  {
   "cell_type": "markdown",
   "metadata": {},
   "source": [
    "#### Print results to terminal. \n",
    "We have now gone through all the steps required to produce, plot, and clean the reults from the NCOF analysis method. The last part is to either save the results to a file or to print them to the terminal. Since format to save the results to is a user preference no function for this is provided in the alpacka package, however the results can be printed to the terminal by calling the following function.\n",
    "\n",
    "The input variable `sort` can be set to either `True` or `False` and decides if the results should be printed as alphabetically sorted or not. \n",
    "   "
   ]
  },
  {
   "cell_type": "code",
   "execution_count": 16,
   "metadata": {},
   "outputs": [
    {
     "name": "stdout",
     "output_type": "stream",
     "text": [
      "printing outliers from the investigated class\n",
      "Printing 1-sigma outliers, alphabetically sorted\n",
      "####################\n",
      "####################\n",
      "Printing 2-sigma outliers, alphabetically sorted\n",
      "####################\n",
      "####################\n",
      "Printing 3-sigma outliers, alphabetically sorted\n",
      "####################\n",
      "####################\n",
      " \n",
      "printing outliers from the remaining classes\n",
      "Printing 1-sigma outliers, alphabetically sorted\n",
      "####################\n",
      "1\n",
      "2\n",
      "3\n",
      "also\n",
      "amazon\n",
      "bag\n",
      "best\n",
      "better\n",
      "bit\n",
      "box\n",
      "buy\n",
      "chocolate\n",
      "cup\n",
      "dog\n",
      "drink\n",
      "eat\n",
      "even\n",
      "find\n",
      "first\n",
      "found\n",
      "give\n",
      "however\n",
      "i'm\n",
      "i've\n",
      "make\n",
      "nice\n",
      "price\n",
      "something\n",
      "still\n",
      "sugar\n",
      "sweet\n",
      "think\n",
      "though\n",
      "time\n",
      "tried\n",
      "try\n",
      "two\n",
      "use\n",
      "used\n",
      "water\n",
      "way\n",
      "well\n",
      "####################\n",
      "Printing 2-sigma outliers, alphabetically sorted\n",
      "####################\n",
      "food\n",
      "get\n",
      "little\n",
      "love\n",
      "much\n",
      "really\n",
      "####################\n",
      "Printing 3-sigma outliers, alphabetically sorted\n",
      "####################\n",
      "br\n",
      "coffee\n",
      "flavor\n",
      "good\n",
      "great\n",
      "like\n",
      "one\n",
      "product\n",
      "taste\n",
      "tea\n",
      "would\n",
      "####################\n"
     ]
    }
   ],
   "source": [
    "print(f\"printing outliers from the investigated class\")\n",
    "p.ncof.print_outliers_to_terminal(words_pos, sort = True)\n",
    "print(f\" \")\n",
    "print(f\"printing outliers from the remaining classes\")\n",
    "p.ncof.print_outliers_to_terminal(words_neg, sort = True)"
   ]
  },
  {
   "cell_type": "code",
   "execution_count": null,
   "metadata": {},
   "outputs": [],
   "source": []
  }
 ],
 "metadata": {
  "kernelspec": {
   "display_name": "Python 3",
   "language": "python",
   "name": "python3"
  },
  "language_info": {
   "codemirror_mode": {
    "name": "ipython",
    "version": 3
   },
   "file_extension": ".py",
   "mimetype": "text/x-python",
   "name": "python",
   "nbconvert_exporter": "python",
   "pygments_lexer": "ipython3",
   "version": "3.8.6"
  }
 },
 "nbformat": 4,
 "nbformat_minor": 4
}
